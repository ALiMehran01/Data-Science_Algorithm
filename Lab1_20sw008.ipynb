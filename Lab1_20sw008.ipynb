{
  "nbformat": 4,
  "nbformat_minor": 0,
  "metadata": {
    "colab": {
      "provenance": [],
      "authorship_tag": "ABX9TyP/umZDmcnN17FiMOsKEOlJ",
      "include_colab_link": true
    },
    "kernelspec": {
      "name": "python3",
      "display_name": "Python 3"
    },
    "language_info": {
      "name": "python"
    }
  },
  "cells": [
    {
      "cell_type": "markdown",
      "metadata": {
        "id": "view-in-github",
        "colab_type": "text"
      },
      "source": [
        "<a href=\"https://colab.research.google.com/github/ALiMehran01/Data-Science_Algorithm/blob/main/Lab1_20sw008.ipynb\" target=\"_parent\"><img src=\"https://colab.research.google.com/assets/colab-badge.svg\" alt=\"Open In Colab\"/></a>"
      ]
    },
    {
      "cell_type": "markdown",
      "source": [
        "Lab01 Data Types and Operators\n",
        "Roll NO\n",
        "Section"
      ],
      "metadata": {
        "id": "2JsDFqm-Hu_e"
      }
    },
    {
      "cell_type": "code",
      "execution_count": null,
      "metadata": {
        "id": "eSAphtvx8zIu",
        "colab": {
          "base_uri": "https://localhost:8080/"
        },
        "outputId": "4f21987a-e707-4fef-86ec-1534f49370ed"
      },
      "outputs": [
        {
          "output_type": "stream",
          "name": "stdout",
          "text": [
            "My name is Mehran and I am 22 years old.\n"
          ]
        }
      ],
      "source": [
        "# Lab1\n",
        "name = \"Mehran\"\n",
        "age = 22\n",
        "\n",
        "# Printing a sentence with the values of the variables\n",
        "print(\"My name is {} and I am {} years old.\".format(name, age))\n"
      ]
    },
    {
      "cell_type": "markdown",
      "source": [
        "Task-2"
      ],
      "metadata": {
        "id": "3QJP4G5OIBDQ"
      }
    },
    {
      "cell_type": "code",
      "source": [
        "text = \"Data Science\"\n",
        "if text.endswith(\"!\"):\n",
        "    print(\"The text ends with an exclamation mark.\")\n",
        "\n",
        "text2 = \"Data Science!\"\n",
        "encoded_text = text2.encode(encoding='utf-8')\n",
        "print(encoded_text)\n",
        "\n",
        "text3 = \"Data Science!\"\n",
        "casefolded_text = text3.casefold()\n",
        "print(casefolded_text)"
      ],
      "metadata": {
        "id": "EkqnDiT7QeJT"
      },
      "execution_count": null,
      "outputs": []
    },
    {
      "cell_type": "markdown",
      "source": [
        "Task-3"
      ],
      "metadata": {
        "id": "A0ztGzo4VqRT"
      }
    },
    {
      "cell_type": "code",
      "source": [
        "month = 8\n",
        "days_in_month = [31, 28, 31, 30, 31, 30, 31, 31, 30, 31, 30, 31]\n",
        "num_days = days_in_month[month - 1]\n",
        "print(num_days)"
      ],
      "metadata": {
        "id": "wrO0kvXsVsQO"
      },
      "execution_count": null,
      "outputs": []
    },
    {
      "cell_type": "markdown",
      "source": [
        "Task-4"
      ],
      "metadata": {
        "id": "ixXCrNIbVxBN"
      }
    },
    {
      "cell_type": "code",
      "source": [
        "eclipse_dates = ['June 21, 2001', 'December 4, 2002', 'November 23, 2003',\n",
        "                 'March 29, 2006', 'August 1, 2008', 'July 22, 2009',\n",
        "                 'July 11, 2010', 'November 13, 2012', 'March 20, 2015',\n",
        "                 'March 9, 2016']\n",
        "\n",
        "recent_dates = eclipse_dates[-3:]\n",
        "print(recent_dates"
      ],
      "metadata": {
        "id": "TEFJao3AVzGH"
      },
      "execution_count": null,
      "outputs": []
    },
    {
      "cell_type": "markdown",
      "source": [
        "Task-5"
      ],
      "metadata": {
        "id": "sMWLnEW3V_CD"
      }
    },
    {
      "cell_type": "code",
      "source": [
        "students = {\n",
        "    \"student1\": {\n",
        "        \"name\": \"Ali Mehran\",\n",
        "        \"age\": 22,\n",
        "        \"grade\": \"Bachelor\",\n",
        "        \"subjects\": [\"Math\", \"Python\", \"English\"]\n",
        "    },\n",
        "    \"student2\": {\n",
        "        \"name\": \"Bilal\",\n",
        "        \"age\": 20,\n",
        "        \"grade\": \"BE\",\n",
        "        \"subjects\": [\"History\", \"Python\", \"Web\"]\n",
        "    },\n",
        "    \"student3\": {\n",
        "        \"name\": \"Hassan\",\n",
        "        \"age\": 21,\n",
        "        \"grade\": \"BE\",\n",
        "        \"subjects\": [\"Physics\", \"Python\", \"React\"]\n",
        "    }\n",
        "}\n",
        "\n",
        "# Accessing student data\n",
        "print(students[\"student1\"][\"name\"])\n",
        "print(students[\"student2\"][\"age\"])\n",
        "print(students[\"student3\"][\"subjects\"])"
      ],
      "metadata": {
        "colab": {
          "base_uri": "https://localhost:8080/"
        },
        "id": "6wxjnCoJWBAq",
        "outputId": "a98c3bb8-6264-4864-a60f-293ee0aa6277"
      },
      "execution_count": 2,
      "outputs": [
        {
          "output_type": "stream",
          "name": "stdout",
          "text": [
            "Ali Mehran\n",
            "20\n",
            "['Physics', 'Python', 'React']\n"
          ]
        }
      ]
    }
  ]
}