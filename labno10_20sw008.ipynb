{
  "nbformat": 4,
  "nbformat_minor": 0,
  "metadata": {
    "colab": {
      "provenance": [],
      "authorship_tag": "ABX9TyN8Br2RyABLRVKR7Lz5fcG5",
      "include_colab_link": true
    },
    "kernelspec": {
      "name": "python3",
      "display_name": "Python 3"
    },
    "language_info": {
      "name": "python"
    }
  },
  "cells": [
    {
      "cell_type": "markdown",
      "metadata": {
        "id": "view-in-github",
        "colab_type": "text"
      },
      "source": [
        "<a href=\"https://colab.research.google.com/github/ALiMehran01/Data-Science_Algorithm/blob/main/labno10_20sw008.ipynb\" target=\"_parent\"><img src=\"https://colab.research.google.com/assets/colab-badge.svg\" alt=\"Open In Colab\"/></a>"
      ]
    },
    {
      "cell_type": "markdown",
      "source": [
        "#Lab No 9\n",
        "#roll no:20sw008\n",
        "#section: ii"
      ],
      "metadata": {
        "id": "WFxXWWyyy9bJ"
      }
    },
    {
      "cell_type": "markdown",
      "source": [
        "###Implement two of the classifiers (Decision tree and naïve bayes) and compare the performance of each classifier."
      ],
      "metadata": {
        "id": "wpB629sMzRMM"
      }
    },
    {
      "cell_type": "code",
      "source": [
        "import pandas as pd\n",
        "from sklearn.tree import DecisionTreeClassifier\n",
        "from sklearn.naive_bayes import GaussianNB\n",
        "from sklearn.metrics import accuracy_score, classification_report\n",
        "from sklearn.model_selection import train_test_split\n",
        "from sklearn.preprocessing import OneHotEncoder, LabelEncoder"
      ],
      "metadata": {
        "id": "cWMw1Eg28bij"
      },
      "execution_count": 37,
      "outputs": []
    },
    {
      "cell_type": "code",
      "source": [
        "\n",
        "# Load the dataset\n",
        "data = pd.read_csv('/content/PS_20174392719_1491204439457_log.csv')\n"
      ],
      "metadata": {
        "id": "VJ0I8E6U8p0E"
      },
      "execution_count": 38,
      "outputs": []
    },
    {
      "cell_type": "code",
      "source": [
        "# Drop irrelevant columns\n",
        "data = data.drop(['step', 'nameOrig', 'nameDest'], axis=1)\n",
        "\n",
        "# Convert categorical variables to numerical using one-hot encoding\n",
        "data = pd.get_dummies(data, columns=['type'])\n"
      ],
      "metadata": {
        "id": "3HpTJZy48xYJ"
      },
      "execution_count": 39,
      "outputs": []
    },
    {
      "cell_type": "code",
      "source": [
        "# Split the data into features (X) and target (y)\n",
        "X = data.drop('isFraud', axis=1)\n",
        "y = data['isFraud']\n"
      ],
      "metadata": {
        "id": "2jIfhYBP80lT"
      },
      "execution_count": 40,
      "outputs": []
    },
    {
      "cell_type": "code",
      "source": [
        "from sklearn.model_selection import train_test_split\n",
        "\n",
        "# Split the dataset into training and testing sets\n",
        "X_train, X_test, y_train, y_test = train_test_split(X, y, test_size=0.2, random_state=42)\n"
      ],
      "metadata": {
        "id": "jwpg33Ya88RO"
      },
      "execution_count": 41,
      "outputs": []
    },
    {
      "cell_type": "code",
      "source": [
        "# Remove rows with NaN values from both X_train and y_train\n",
        "X_train.dropna(inplace=True)\n",
        "y_train = y_train[X_train.index]  # Make sure labels match the remaining data\n",
        "\n",
        "# Create a new DecisionTreeClassifier and fit it on the data without NaN values\n",
        "dt_classifier = DecisionTreeClassifier()\n",
        "dt_classifier.fit(X_train, y_train)\n",
        "\n",
        "# Now, you can use this classifier to make predictions on X_test\n",
        "dt_predictions = dt_classifier.predict(X_test)\n"
      ],
      "metadata": {
        "id": "i4bmt4RXDWS4"
      },
      "execution_count": null,
      "outputs": []
    },
    {
      "cell_type": "code",
      "source": [
        "from sklearn.metrics import accuracy_score, classification_report, confusion_matrix\n",
        "\n",
        "# Make predictions on the test set\n",
        "y_pred = dt_classifier.predict(X_test)\n",
        "\n",
        "# Evaluate the model\n",
        "accuracy = accuracy_score(y_test, y_pred)\n",
        "conf_matrix = confusion_matrix(y_test, y_pred)\n",
        "class_report = classification_report(y_test, y_pred)\n",
        "\n",
        "# Print the evaluation metrics\n",
        "print(\"Accuracy:\", accuracy)\n",
        "print(\"Confusion Matrix:\\n\", conf_matrix)\n",
        "print(\"Classification Report:\\n\", class_report)\n"
      ],
      "metadata": {
        "id": "8mHtYcp1DZjd"
      },
      "execution_count": null,
      "outputs": []
    },
    {
      "cell_type": "markdown",
      "source": [
        "###Requirement already satisfied: opendatasets in /usr/local/lib/python3.10/dist-packages (0.1.22)\n",
        "Requirement already satisfied: tqdm in /usr/local/lib/python3.10/dist-packages (from opendatasets) (4.66.1)\n",
        "Requirement already satisfied: kaggle in /usr/local/lib/python3.10/dist-packages (from opendatasets) (1.5.16)\n",
        "Requirement already satisfied: click in /usr/local/lib/python3.10/dist-packages (from opendatasets) (8.1.7)\n",
        "Requirement already satisfied: six>=1.10 in /usr/local/lib/python3.10/dist-packages (from kaggle->opendatasets) (1.16.0)\n",
        "Requirement already satisfied: certifi in /usr/local/lib/python3.10/dist-packages (from kaggle->opendatasets) (2023.7.22)\n",
        "Requirement already satisfied: python-dateutil in /usr/local/lib/python3.10/dist-packages (from kaggle->opendatasets) (2.8.2)\n",
        "Requirement already satisfied: requests in /usr/local/lib/python3.10/dist-packages (from kaggle->opendatasets) (2.31.0)\n",
        "Requirement already satisfied: python-slugify in /usr/local/lib/python3.10/dist-packages (from kaggle->opendatasets) (8.0.1)\n",
        "Requirement already satisfied: urllib3 in /usr/local/lib/python3.10/dist-packages (from kaggle->opendatasets) (2.0.4)\n",
        "Requirement already satisfied: bleach in /usr/local/lib/python3.10/dist-packages (from kaggle->opendatasets) (6.0.0)\n",
        "Requirement already satisfied: webencodings in /usr/local/lib/python3.10/dist-packages (from bleach->kaggle->opendatasets) (0.5.1)\n",
        "Requirement already satisfied: text-unidecode>=1.3 in /usr/local/lib/python3.10/dist-packages (from python-slugify->kaggle->opendatasets) (1.3)\n",
        "Requirement already satisfied: charset-normalizer<4,>=2 in /usr/local/lib/python3.10/dist-packages (from requests->kaggle->opendatasets) (3.2.0)\n",
        "Requirement already satisfied: idna<4,>=2.5 in /usr/local/lib/python3.10/dist-packages (from requests->kaggle->opendatasets) (3.4)\n",
        "Requirement already satisfied: pandas in /usr/local/lib/python3.10/dist-packages (1.5.3)\n",
        "Requirement already satisfied: python-dateutil>=2.8.1 in /usr/local/lib/python3.10/dist-packages (from pandas) (2.8.2)\n",
        "Requirement already satisfied: pytz>=2020.1 in /usr/local/lib/python3.10/dist-packages (from pandas) (2023.3.post1)\n",
        "Requirement already satisfied: numpy>=1.21.0 in /usr/local/lib/python3.10/dist-packages (from pandas) (1.23.5)\n",
        "Requirement already satisfied: six>=1.5 in /usr/local/lib/python3.10/dist-packages (from python-dateutil>=2.8.1->pandas) (1.16.0)\n",
        "Please provide your Kaggle credentials to download this dataset. Learn more: http://bit.ly/kaggle-creds\n",
        "Your Kaggle username: ahsanali135\n",
        "Your Kaggle Key: ··········\n",
        "Downloading online-payments-fraud-detection-dataset.zip to ./online-payments-fraud-detection-dataset\n",
        "100%|██████████| 178M/178M [00:01<00:00, 121MB/s]\n",
        "\n",
        "step\ttype\tamount\tnameOrig\toldbalanceOrg\tnewbalanceOrig\tnameDest\toldbalanceDest\tnewbalanceDest\tisFraud\tisFlaggedFraud\n",
        "0\t1\tPAYMENT\t9839.64\tC1231006815\t170136.0\t160296.36\tM1979787155\t0.0\t0.0\t0\t0\n",
        "1\t1\tPAYMENT\t1864.28\tC1666544295\t21249.0\t19384.72\tM2044282225\t0.0\t0.0\t0\t0\n",
        "2\t1\tTRANSFER\t181.00\tC1305486145\t181.0\t0.00\tC553264065\t0.0\t0.0\t1\t0\n",
        "3\t1\tCASH_OUT\t181.00\tC840083671\t181.0\t0.00\tC38997010\t21182.0\t0.0\t1\t0\n",
        "4\t1\tPAYMENT\t11668.14\tC2048537720\t41554.0\t29885.86\tM1230701703\t0.0\t0.0\t0\t0\n",
        "Decision Tree Accuracy: 0.9996998091980976\n",
        "Naive Bayes Accuracy: 0.9921431737240319\n",
        "Decision Tree Classification Report:\n",
        "              precision    recall  f1-score   support\n",
        "\n",
        "           0       1.00      1.00      1.00   1270904\n",
        "           1       0.89      0.87      0.88      1620\n",
        "\n",
        "    accuracy                           1.00   1272524\n",
        "   macro avg       0.95      0.94      0.94   1272524\n",
        "weighted avg       1.00      1.00      1.00   1272524\n",
        "\n",
        "Naive Bayes Classification Report:\n",
        "              precision    recall  f1-score   support\n",
        "\n",
        "           0       1.00      0.99      1.00   1270904\n",
        "           1       0.03      0.17      0.05      1620\n",
        "\n",
        "    accuracy                           0.99   1272524\n",
        "   macro avg       0.51      0.58      0.52   1272524\n",
        "weighted avg       1.00      0.99      0.99   1272524\n"
      ],
      "metadata": {
        "id": "AsclBj_pDx75"
      }
    },
    {
      "cell_type": "markdown",
      "source": [
        "end"
      ],
      "metadata": {
        "id": "8UxusW7UD8Mg"
      }
    }
  ]
}